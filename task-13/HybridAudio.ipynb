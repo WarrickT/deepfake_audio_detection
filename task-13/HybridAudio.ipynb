{
  "nbformat": 4,
  "nbformat_minor": 0,
  "metadata": {
    "colab": {
      "provenance": [],
      "collapsed_sections": [
        "OubYI8YmNyRw"
      ],
      "authorship_tag": "ABX9TyOaV8+kwcU6EMqefIpQ60J6",
      "include_colab_link": true
    },
    "kernelspec": {
      "name": "python3",
      "display_name": "Python 3"
    },
    "language_info": {
      "name": "python"
    }
  },
  "cells": [
    {
      "cell_type": "markdown",
      "metadata": {
        "id": "view-in-github",
        "colab_type": "text"
      },
      "source": [
        "<a href=\"https://colab.research.google.com/github/dodorlee1210/deepfake_audio_detection/blob/main/HybridAudio.ipynb\" target=\"_parent\"><img src=\"https://colab.research.google.com/assets/colab-badge.svg\" alt=\"Open In Colab\"/></a>"
      ]
    },
    {
      "cell_type": "markdown",
      "source": [
        "# DATA Processing: Librispeech"
      ],
      "metadata": {
        "id": "OubYI8YmNyRw"
      }
    },
    {
      "cell_type": "code",
      "source": [
        "import os\n",
        "import urllib.request\n",
        "import tarfile\n",
        "import librosa\n",
        "import soundfile as sf"
      ],
      "metadata": {
        "id": "3_ZmiZ1lRTl4"
      },
      "execution_count": 1,
      "outputs": []
    },
    {
      "cell_type": "code",
      "source": [
        "# LibriSpeech URL [test-clean]\n",
        "LIBRISPEECH_URL = \"https://www.openslr.org/resources/12/test-clean.tar.gz\"\n",
        "DATA_DIR = \"/content/real\"\n",
        "AUDIO_DIR = os.path.join(DATA_DIR, \"LibriSpeech/test-clean\")\n",
        "\n",
        "# Download LibriSpeech test-clean dataset\n",
        "os.makedirs(DATA_DIR, exist_ok=True)\n",
        "tar_path = os.path.join(DATA_DIR, \"test-clean.tar.gz\")\n",
        "\n",
        "urllib.request.urlretrieve(LIBRISPEECH_URL, tar_path)\n",
        "\n",
        "# Extract files\n",
        "with tarfile.open(tar_path, \"r:gz\") as tar:\n",
        "    tar.extractall(DATA_DIR)\n",
        "\n",
        "# Convert FLAC to WAV\n",
        "wav_dir = os.path.join(DATA_DIR, \"wav\")\n",
        "os.makedirs(wav_dir, exist_ok=True)\n",
        "\n",
        "flac_files = []\n",
        "for root, _, files in os.walk(AUDIO_DIR):\n",
        "    for file in files:\n",
        "        if file.endswith(\".flac\"):\n",
        "            flac_path = os.path.join(root, file)\n",
        "            wav_path = os.path.join(wav_dir, file.replace(\".flac\", \".wav\"))\n",
        "            flac_files.append((flac_path, wav_path))\n",
        "\n",
        "for flac_path, wav_path in flac_files:\n",
        "    # Load FLAC\n",
        "    audio, sr = librosa.load(flac_path, sr=None)\n",
        "    # Save as WAV\n",
        "    sf.write(wav_path, audio, sr)\n",
        "\n",
        "print(f\"Saved in {wav_dir}\")\n"
      ],
      "metadata": {
        "colab": {
          "base_uri": "https://localhost:8080/"
        },
        "id": "_FieuENvRa7T",
        "outputId": "568c415c-e296-484b-ab45-6df50ccba92d"
      },
      "execution_count": 2,
      "outputs": [
        {
          "output_type": "stream",
          "name": "stdout",
          "text": [
            "Saved in /content/real/wav\n"
          ]
        }
      ]
    },
    {
      "cell_type": "markdown",
      "source": [
        "# Manipulate Data: Deepfake"
      ],
      "metadata": {
        "id": "YhEoJLKqTuBS"
      }
    },
    {
      "cell_type": "code",
      "source": [
        "# https://pypi.org/project/pydub/\n",
        "!pip install pydub"
      ],
      "metadata": {
        "colab": {
          "base_uri": "https://localhost:8080/"
        },
        "id": "L0RLJTnuMDfc",
        "outputId": "dcb0c3b6-e09e-4de5-abb4-c9350056e460"
      },
      "execution_count": 3,
      "outputs": [
        {
          "output_type": "stream",
          "name": "stdout",
          "text": [
            "Collecting pydub\n",
            "  Downloading pydub-0.25.1-py2.py3-none-any.whl.metadata (1.4 kB)\n",
            "Downloading pydub-0.25.1-py2.py3-none-any.whl (32 kB)\n",
            "Installing collected packages: pydub\n",
            "Successfully installed pydub-0.25.1\n"
          ]
        }
      ]
    },
    {
      "cell_type": "code",
      "source": [
        "import librosa.effects\n",
        "import numpy as np\n",
        "import random\n",
        "from pydub import AudioSegment"
      ],
      "metadata": {
        "id": "O4YPsq-jT6KM"
      },
      "execution_count": 4,
      "outputs": []
    },
    {
      "cell_type": "code",
      "source": [
        "def apply_pitch_shift(audio_path, output_path, pitch_factor):\n",
        "    \"\"\"Shift the pitch of an audio file.\"\"\"\n",
        "    y, sr = librosa.load(audio_path, sr=None)\n",
        "    y_shifted = librosa.effects.pitch_shift(y, sr=sr, n_steps=pitch_factor, bins_per_octave=24)\n",
        "    sf.write(output_path, y_shifted, sr)\n",
        "\n",
        "def time_stretch(audio_path, output_path, stretch_factor=0.8):\n",
        "    \"\"\"Stretch the time of audio.\"\"\"\n",
        "    y, sr = librosa.load(audio_path, sr=None)\n",
        "    y_stretched = librosa.effects.time_stretch(y, stretch_factor)\n",
        "    sf.write(output_path, y_stretched, sr)\n",
        "\n",
        "def add_noise(audio_path, output_path, noise_level=0.02):\n",
        "    \"\"\"Add white noise to audio.\"\"\"\n",
        "    y, sr = librosa.load(audio_path, sr=None)\n",
        "    noise = noise_level * np.random.randn(len(y))\n",
        "    y_noisy = y + noise\n",
        "    sf.write(output_path, y_noisy, sr)\n",
        "\n",
        "def add_reverb(audio_path, output_path, room_scale=50):\n",
        "    \"\"\"Apply a reverb effect.\"\"\"\n",
        "    audio = AudioSegment.from_file(audio_path, format=\"wav\")\n",
        "    reverb_audio = audio.low_pass_filter(room_scale).fade_in(500).fade_out(500)\n",
        "    reverb_audio.export(output_path, format=\"wav\")\n",
        "\n",
        "def create_deepfake_audio(original_audio_path, deepfake_output_path):\n",
        "    \"\"\"Apply multiple transformations to simulate deepfake audio.\"\"\"\n",
        "    # temp_pitch = \"temp_pitch.wav\"\n",
        "    # temp_noise = \"temp_noise.wav\"\n",
        "\n",
        "    apply_pitch_shift(original_audio_path, deepfake_output_path, pitch_factor=random.uniform(5,20))\n",
        "    # add_noise(temp_pitch, temp_noise, noise_level=0.015)\n",
        "    # add_reverb(temp_noise, deepfake_output_path, room_scale=random.randint(40, 60))\n",
        "\n",
        "    # Cleanup temp files\n",
        "    # os.remove(temp_pitch)\n",
        "    # os.remove(temp_noise)\n",
        "\n",
        "    print(f\"Deepfake Saved at: {deepfake_output_path}\")"
      ],
      "metadata": {
        "id": "HDhMFckTTtel"
      },
      "execution_count": 32,
      "outputs": []
    },
    {
      "cell_type": "markdown",
      "source": [
        "# Hybrid"
      ],
      "metadata": {
        "id": "6zxPmmjddaAe"
      }
    },
    {
      "cell_type": "code",
      "source": [
        "def split_audio(audio, segment_length):\n",
        "    \"\"\"Split audio into equal segments (in ms).\"\"\"\n",
        "    # Convert the NumPy array to an AudioSegment for splitting\n",
        "    audio_segment = AudioSegment(audio.tobytes(), frame_rate=sr, sample_width=audio.dtype.itemsize, channels=1)\n",
        "    segments = []\n",
        "    for i in range(0, len(audio_segment), segment_length):\n",
        "        segments.append(audio_segment[i:i + segment_length])\n",
        "    return segments\n",
        "\n",
        "def mix_segments(deepfake_seg, real_seg):\n",
        "    \"\"\"Create mixed segments using deepfake and real segments.\"\"\"\n",
        "    mixed_segments = []\n",
        "    for deepfake_segment, real_segment in zip(deepfake_seg, real_seg):\n",
        "        mixed_segment = deepfake_segment.overlay(real_segment)\n",
        "        mixed_segments.append(mixed_segment)\n",
        "    return mixed_segments\n",
        "\n",
        "def create_hybrid_audio(deepfake_path, real_path, mixed_path, segment_length=2000):\n",
        "    \"\"\"Create hybrid audio using deepfake and real segments.\"\"\"\n",
        "    global sr # Make sr accessible within the function\n",
        "    deepfake, sr = librosa.load(deepfake_path, sr=None)  # Get sample rate (sr)\n",
        "    real, _ = librosa.load(real_path, sr=sr)  # Use same sample rate for real audio\n",
        "\n",
        "    deepfake_seg = split_audio(deepfake, segment_length)\n",
        "    real_seg = split_audio(real, segment_length)\n",
        "    mixed_audio = mix_segments(deepfake_seg, real_seg)\n",
        "\n",
        "    # Concatenate the mixed segments into a single AudioSegment\n",
        "    final_audio = sum(mixed_audio, AudioSegment.empty())\n",
        "    final_audio.export(mixed_path, format=\"wav\")"
      ],
      "metadata": {
        "id": "Vl2QabCNhheZ"
      },
      "execution_count": 6,
      "outputs": []
    },
    {
      "cell_type": "markdown",
      "source": [
        "# Load, Mix, Label: 1 file"
      ],
      "metadata": {
        "id": "WGX5pVUOSSD9"
      }
    },
    {
      "cell_type": "code",
      "source": [
        "os.makedirs(\"/content/fake/wav\", exist_ok=True)\n",
        "os.makedirs(\"/content/hybrid/wav\", exist_ok=True)\n",
        "REAL_AUDIO = \"/content/real/wav/1089-134686-0000.wav\"\n",
        "FAKE_AUDIO = \"/content/fake/wav/1089-134686-0000.wav\"\n",
        "HYBRID_AUDIO = \"/content/hybrid/wav/1089-134686-0000.wav\"\n",
        "create_deepfake_audio(REAL_AUDIO, FAKE_AUDIO)"
      ],
      "metadata": {
        "id": "xq6Glv3vSxgF",
        "colab": {
          "base_uri": "https://localhost:8080/"
        },
        "outputId": "71845289-1d27-4494-a3be-778b63e10e20"
      },
      "execution_count": 33,
      "outputs": [
        {
          "output_type": "stream",
          "name": "stdout",
          "text": [
            "Deepfake Saved at: /content/fake/wav/1089-134686-0000.wav\n"
          ]
        }
      ]
    },
    {
      "cell_type": "code",
      "source": [
        "create_hybrid_audio(FAKE_AUDIO, REAL_AUDIO, HYBRID_AUDIO)"
      ],
      "metadata": {
        "id": "A8HWILPCVtXu"
      },
      "execution_count": 31,
      "outputs": []
    }
  ]
}
