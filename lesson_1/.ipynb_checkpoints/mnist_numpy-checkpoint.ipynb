{
 "cells": [
  {
   "cell_type": "code",
   "execution_count": 1,
   "id": "97c19b19-6c3f-4f38-b9ea-84f5e12e2a75",
   "metadata": {},
   "outputs": [],
   "source": [
    "# Import libraries\n",
    "import numpy as np\n",
    "import pandas as pd\n",
    "import torch\n",
    "import torch.nn as nn\n",
    "import torch.optim as optim\n",
    "from matplotlib import pyplot as plt"
   ]
  },
  {
   "cell_type": "code",
   "execution_count": 3,
   "id": "312c3ad6-8558-4660-81e5-3e84d35faa7f",
   "metadata": {},
   "outputs": [],
   "source": [
    "# Load data\n",
    "data = pd.read_csv('train.csv')\n",
    "data = np.array(data)\n",
    "m, n = data.shape\n",
    "np.random.shuffle(data)"
   ]
  },
  {
   "cell_type": "code",
   "execution_count": 4,
   "id": "afb8bde1-b8a4-4707-a352-bf5b02c347b3",
   "metadata": {},
   "outputs": [],
   "source": [
    "data_dev = data[0:1000].T\n",
    "Y_dev = data_dev[0]\n",
    "X_dev = data_dev[1:n] / 255.  # Normalize\n",
    "data_train = data[1000:m].T\n",
    "Y_train = data_train[0]\n",
    "X_train = data_train[1:n] / 255.  # Normalize"
   ]
  },
  {
   "cell_type": "code",
   "execution_count": 8,
   "id": "c1a25855-b853-4668-a6db-d8762777224b",
   "metadata": {},
   "outputs": [],
   "source": [
    "def params():\n",
    "    W1 = np.random.rand(10, 784) - 0.5\n",
    "    b1 = np.random.rand(10, 1) - 0.5\n",
    "    W2 = np.random.rand(10, 10) - 0.5\n",
    "    b2 = np.random.rand(10, 1) - 0.5\n",
    "    return W1, b1, W2, b2\n",
    "\n",
    "def ReLU(Z):\n",
    "    return np.maximum(Z, 0)\n",
    "\n",
    "def softmax(Z):\n",
    "    expZ = np.exp(Z - np.max(Z))  # For numerical stability\n",
    "    return expZ / expZ.sum(axis=0, keepdims=True)\n",
    "\n",
    "def forward_prop(W1, b1, W2, b2, X):\n",
    "    Z1 = W1.dot(X) + b1\n",
    "    A1 = ReLU(Z1)\n",
    "    Z2 = W2.dot(A1) + b2\n",
    "    A2 = softmax(Z2)\n",
    "    return Z1, A1, Z2, A2\n",
    "\n",
    "# def create(Y):\n",
    "#     column_Y = np.zeros((Y.size, Y.max() + 1))\n",
    "#     column_Y[np.arange(Y.size), Y] = 1\n",
    "#     return column_Y.T\n",
    "def create(Y):\n",
    "    # Use int() to ensure we are working with integer indices\n",
    "    column_Y = np.zeros((Y.size, int(Y.max()) + 1))  # Y.max() is cast to int\n",
    "    column_Y[np.arange(Y.size), Y.astype(int)] = 1  # Convert Y to int for indexing\n",
    "    return column_Y.T\n",
    "\n",
    "def cross_entropy_loss(A2, Y):\n",
    "    m = Y.size  # Change this to Y.size\n",
    "    create_Y = create(Y)\n",
    "    loss = -np.sum(create_Y * np.log(A2 + 1e-12)) / m  # Add epsilon for stability\n",
    "    return loss\n",
    "\n",
    "def back_prop(Z1, A1, Z2, A2, W1, W2, X, Y):\n",
    "    create_Y = create(Y)\n",
    "    dZ2 = A2 - create_Y\n",
    "    m = Y.shape[1]  # Number of examples\n",
    "    dW2 = (1/m) * dZ2.dot(A1.T)\n",
    "    db2 = (1/m) * np.sum(dZ2, axis=1, keepdims=True)\n",
    "    dZ1 = W2.T.dot(dZ2) * (Z1 > 0)  # Derivative of ReLU\n",
    "    dW1 = (1/m) * dZ1.dot(X.T)\n",
    "    db1 = (1/m) * np.sum(dZ1, axis=1, keepdims=True)\n",
    "    return dW1, db1, dW2, db2\n",
    "\n",
    "def update_params(W1, b1, W2, b2, dW1, db1, dW2, db2, alpha):\n",
    "    W1 -= alpha * dW1\n",
    "    b1 -= alpha * db1\n",
    "    W2 -= alpha * dW2\n",
    "    b2 -= alpha * db2\n",
    "    return W1, b1, W2, b2\n",
    "\n",
    "def get_predictions(A2):\n",
    "    return np.argmax(A2, axis=0)\n",
    "\n",
    "def get_accuracy(predictions, Y):\n",
    "    return (np.sum(predictions == Y) / Y.size) * 100"
   ]
  },
  {
   "cell_type": "code",
   "execution_count": 9,
   "id": "23e1aa44-b359-48aa-80ec-80c447f06682",
   "metadata": {},
   "outputs": [],
   "source": [
    "def gradient_descent(X, Y, iterations, alpha):\n",
    "    W1, b1, W2, b2 = params()\n",
    "    print(f\"{'Iteration':^12} | {'Accuracy':^12} | {'Loss':^12}\")\n",
    "    print(\"-\" * 45)\n",
    "    for i in range(iterations):\n",
    "        Z1, A1, Z2, A2 = forward_prop(W1, b1, W2, b2, X)\n",
    "        loss = cross_entropy_loss(A2, Y)\n",
    "        dW1, db1, dW2, db2 = back_prop(Z1, A1, Z2, A2, W1, W2, X, Y)\n",
    "        W1, b1, W2, b2 = update_params(W1, b1, W2, b2, dW1, db1, dW2, db2, alpha)\n",
    "\n",
    "        if i % 10 == 0:\n",
    "            accuracy = get_accuracy(get_predictions(A2), Y)\n",
    "            print(f\"{i:^12} | {accuracy:^12.2f} | {loss:^12.4f}\")\n",
    "\n",
    "    return W1, b1, W2, b2"
   ]
  },
  {
   "cell_type": "code",
   "execution_count": 10,
   "id": "1cea71c4-21f8-45ce-9066-8fc4eb7e6088",
   "metadata": {},
   "outputs": [
    {
     "name": "stdout",
     "output_type": "stream",
     "text": [
      " Iteration   |   Accuracy   |     Loss    \n",
      "---------------------------------------------\n"
     ]
    },
    {
     "ename": "TypeError",
     "evalue": "'numpy.float64' object cannot be interpreted as an integer",
     "output_type": "error",
     "traceback": [
      "\u001b[0;31m---------------------------------------------------------------------------\u001b[0m",
      "\u001b[0;31mTypeError\u001b[0m                                 Traceback (most recent call last)",
      "Cell \u001b[0;32mIn[10], line 2\u001b[0m\n\u001b[1;32m      1\u001b[0m \u001b[38;5;66;03m# Gradient descent\u001b[39;00m\n\u001b[0;32m----> 2\u001b[0m W1, b1, W2, b2 \u001b[38;5;241m=\u001b[39m \u001b[43mgradient_descent\u001b[49m\u001b[43m(\u001b[49m\u001b[43mX_train\u001b[49m\u001b[43m,\u001b[49m\u001b[43m \u001b[49m\u001b[43mY_train\u001b[49m\u001b[43m,\u001b[49m\u001b[43m \u001b[49m\u001b[38;5;241;43m100\u001b[39;49m\u001b[43m,\u001b[49m\u001b[43m \u001b[49m\u001b[38;5;241;43m0.1\u001b[39;49m\u001b[43m)\u001b[49m\n",
      "Cell \u001b[0;32mIn[9], line 7\u001b[0m, in \u001b[0;36mgradient_descent\u001b[0;34m(X, Y, iterations, alpha)\u001b[0m\n\u001b[1;32m      5\u001b[0m \u001b[38;5;28;01mfor\u001b[39;00m i \u001b[38;5;129;01min\u001b[39;00m \u001b[38;5;28mrange\u001b[39m(iterations):\n\u001b[1;32m      6\u001b[0m     Z1, A1, Z2, A2 \u001b[38;5;241m=\u001b[39m forward_prop(W1, b1, W2, b2, X)\n\u001b[0;32m----> 7\u001b[0m     loss \u001b[38;5;241m=\u001b[39m \u001b[43mcross_entropy_loss\u001b[49m\u001b[43m(\u001b[49m\u001b[43mA2\u001b[49m\u001b[43m,\u001b[49m\u001b[43m \u001b[49m\u001b[43mY\u001b[49m\u001b[43m)\u001b[49m\n\u001b[1;32m      8\u001b[0m     dW1, db1, dW2, db2 \u001b[38;5;241m=\u001b[39m back_prop(Z1, A1, Z2, A2, W1, W2, X, Y)\n\u001b[1;32m      9\u001b[0m     W1, b1, W2, b2 \u001b[38;5;241m=\u001b[39m update_params(W1, b1, W2, b2, dW1, db1, dW2, db2, alpha)\n",
      "Cell \u001b[0;32mIn[8], line 29\u001b[0m, in \u001b[0;36mcross_entropy_loss\u001b[0;34m(A2, Y)\u001b[0m\n\u001b[1;32m     27\u001b[0m \u001b[38;5;28;01mdef\u001b[39;00m \u001b[38;5;21mcross_entropy_loss\u001b[39m(A2, Y):\n\u001b[1;32m     28\u001b[0m     m \u001b[38;5;241m=\u001b[39m Y\u001b[38;5;241m.\u001b[39msize  \u001b[38;5;66;03m# Change this to Y.size\u001b[39;00m\n\u001b[0;32m---> 29\u001b[0m     create_Y \u001b[38;5;241m=\u001b[39m \u001b[43mcreate\u001b[49m\u001b[43m(\u001b[49m\u001b[43mY\u001b[49m\u001b[43m)\u001b[49m\n\u001b[1;32m     30\u001b[0m     loss \u001b[38;5;241m=\u001b[39m \u001b[38;5;241m-\u001b[39mnp\u001b[38;5;241m.\u001b[39msum(create_Y \u001b[38;5;241m*\u001b[39m np\u001b[38;5;241m.\u001b[39mlog(A2 \u001b[38;5;241m+\u001b[39m \u001b[38;5;241m1e-12\u001b[39m)) \u001b[38;5;241m/\u001b[39m m  \u001b[38;5;66;03m# Add epsilon for stability\u001b[39;00m\n\u001b[1;32m     31\u001b[0m     \u001b[38;5;28;01mreturn\u001b[39;00m loss\n",
      "Cell \u001b[0;32mIn[8], line 23\u001b[0m, in \u001b[0;36mcreate\u001b[0;34m(Y)\u001b[0m\n\u001b[1;32m     22\u001b[0m \u001b[38;5;28;01mdef\u001b[39;00m \u001b[38;5;21mcreate\u001b[39m(Y):\n\u001b[0;32m---> 23\u001b[0m     column_Y \u001b[38;5;241m=\u001b[39m \u001b[43mnp\u001b[49m\u001b[38;5;241;43m.\u001b[39;49m\u001b[43mzeros\u001b[49m\u001b[43m(\u001b[49m\u001b[43m(\u001b[49m\u001b[43mY\u001b[49m\u001b[38;5;241;43m.\u001b[39;49m\u001b[43msize\u001b[49m\u001b[43m,\u001b[49m\u001b[43m \u001b[49m\u001b[43mY\u001b[49m\u001b[38;5;241;43m.\u001b[39;49m\u001b[43mmax\u001b[49m\u001b[43m(\u001b[49m\u001b[43m)\u001b[49m\u001b[43m \u001b[49m\u001b[38;5;241;43m+\u001b[39;49m\u001b[43m \u001b[49m\u001b[38;5;241;43m1\u001b[39;49m\u001b[43m)\u001b[49m\u001b[43m)\u001b[49m\n\u001b[1;32m     24\u001b[0m     column_Y[np\u001b[38;5;241m.\u001b[39marange(Y\u001b[38;5;241m.\u001b[39msize), Y] \u001b[38;5;241m=\u001b[39m \u001b[38;5;241m1\u001b[39m\n\u001b[1;32m     25\u001b[0m     \u001b[38;5;28;01mreturn\u001b[39;00m column_Y\u001b[38;5;241m.\u001b[39mT\n",
      "\u001b[0;31mTypeError\u001b[0m: 'numpy.float64' object cannot be interpreted as an integer"
     ]
    }
   ],
   "source": [
    "# Gradient descent\n",
    "W1, b1, W2, b2 = gradient_descent(X_train, Y_train, 100, 0.1)"
   ]
  },
  {
   "cell_type": "code",
   "execution_count": null,
   "id": "bd3407c8-f43a-416e-a28a-80cf5eaff592",
   "metadata": {},
   "outputs": [],
   "source": [
    "def make_predictions(X, W1, b1, W2, b2):\n",
    "    Z1, A1, Z2, A2 = forward_prop(W1, b1, W2, b2, X)\n",
    "    predictions = get_predictions(A2)\n",
    "    return predictions\n",
    "\n",
    "def test_prediction(index, W1, b1, W2, b2):\n",
    "    current_image = X_train[:, index, None]\n",
    "    prediction = make_predictions(X_train[:, index, None], W1, b1, W2, b2)\n",
    "    label = Y_train[index]\n",
    "    print(\"Prediction: \", prediction)\n",
    "    print(\"Label: \", label)\n",
    "\n",
    "    current_image = current_image.reshape((28, 28)) * 255\n",
    "    plt.gray()\n",
    "    plt.imshow(current_image, interpolation='nearest')\n",
    "    plt.show()"
   ]
  },
  {
   "cell_type": "code",
   "execution_count": null,
   "id": "6af968c9-3338-47fc-969e-ca73573ce926",
   "metadata": {},
   "outputs": [],
   "source": [
    "# Test some predictions\n",
    "for i in range(4):\n",
    "    test_prediction(i, W1, b1, W2, b2)\n",
    "\n",
    "# Calculate accuracy on the development set\n",
    "dev_predictions = make_predictions(X_dev, W1, b1, W2, b2)\n",
    "print(\"Accuracy: \", get_accuracy(dev_predictions, Y_dev), \"%\")"
   ]
  }
 ],
 "metadata": {
  "kernelspec": {
   "display_name": "Python (deep-learning)",
   "language": "python",
   "name": "deep-learning"
  },
  "language_info": {
   "codemirror_mode": {
    "name": "ipython",
    "version": 3
   },
   "file_extension": ".py",
   "mimetype": "text/x-python",
   "name": "python",
   "nbconvert_exporter": "python",
   "pygments_lexer": "ipython3",
   "version": "3.8.19"
  }
 },
 "nbformat": 4,
 "nbformat_minor": 5
}
